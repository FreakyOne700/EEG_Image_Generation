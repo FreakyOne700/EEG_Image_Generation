{
 "cells": [
  {
   "cell_type": "code",
   "execution_count": 16,
   "id": "7aa99db4",
   "metadata": {},
   "outputs": [],
   "source": [
    "import scipy.io as sc\n",
    "import numpy as np\n",
    "from sklearn import preprocessing\n",
    "\n",
    "data = np.load(open('../Dataset/all_01.dat', 'rb'),allow_pickle=True)\n"
   ]
  },
  {
   "cell_type": "code",
   "execution_count": 17,
   "id": "34001525",
   "metadata": {},
   "outputs": [
    {
     "data": {
      "text/plain": [
       "(3200, 2380)"
      ]
     },
     "execution_count": 17,
     "metadata": {},
     "output_type": "execute_result"
    }
   ],
   "source": [
    "data.shape"
   ]
  },
  {
   "cell_type": "code",
   "execution_count": 18,
   "id": "d6a11bff",
   "metadata": {},
   "outputs": [],
   "source": [
    "EEG = preprocessing.minmax_scale(data[:,:140],axis=1)\n",
    "EEG = EEG * 2 - 1\n",
    "ina = preprocessing.minmax_scale(data[:,140:])\n",
    "data = np.hstack((EEG,ina))\n",
    "img_size = 40*56\n",
    "EEG_size = 140\n"
   ]
  },
  {
   "cell_type": "code",
   "execution_count": 19,
   "id": "bbd7008e",
   "metadata": {},
   "outputs": [],
   "source": [
    "l0 = np.zeros([int(3200/5),1])\n",
    "for lab in range(1,5):\n",
    "    l_ = np.ones([int(3200/5),1]) * lab\n",
    "    l0 = np.vstack((l0,l_))"
   ]
  },
  {
   "cell_type": "code",
   "execution_count": 22,
   "id": "f1ae8500",
   "metadata": {},
   "outputs": [
    {
     "name": "stdout",
     "output_type": "stream",
     "text": [
      "[[0.]\n",
      " [0.]\n",
      " [0.]\n",
      " ...\n",
      " [4.]\n",
      " [4.]\n",
      " [4.]]\n"
     ]
    }
   ],
   "source": [
    "print(l0)"
   ]
  },
  {
   "cell_type": "code",
   "execution_count": 20,
   "id": "22bc970a",
   "metadata": {},
   "outputs": [],
   "source": [
    "data = np.hstack((data,l0))\n",
    "np.random.shuffle(data)"
   ]
  },
  {
   "cell_type": "code",
   "execution_count": 23,
   "id": "8a1e07b2",
   "metadata": {},
   "outputs": [
    {
     "name": "stdout",
     "output_type": "stream",
     "text": [
      "[[-0.01538086  0.33333008  0.01538086 ...  0.          0.\n",
      "   2.        ]\n",
      " [ 0.19540343  0.08045637  0.18391201 ...  0.          0.\n",
      "   4.        ]\n",
      " [-0.72254317 -0.04816698 -0.19845785 ...  0.          0.\n",
      "   0.        ]\n",
      " ...\n",
      " [ 0.45019716  0.7211155   0.59362629 ...  0.          0.\n",
      "   1.        ]\n",
      " [ 0.07537285  0.72864245  0.17587955 ...  0.          0.\n",
      "   0.        ]\n",
      " [ 1.         -0.02109589 -0.07173247 ...  0.          0.\n",
      "   4.        ]]\n"
     ]
    }
   ],
   "source": [
    "print(data)"
   ]
  },
  {
   "cell_type": "code",
   "execution_count": 21,
   "id": "db9a1eae",
   "metadata": {},
   "outputs": [],
   "source": [
    "np.save('data.npy',data)"
   ]
  },
  {
   "cell_type": "code",
   "execution_count": null,
   "id": "0bc2cbb3",
   "metadata": {},
   "outputs": [],
   "source": []
  }
 ],
 "metadata": {
  "kernelspec": {
   "display_name": "Python 3",
   "language": "python",
   "name": "python3"
  },
  "language_info": {
   "codemirror_mode": {
    "name": "ipython",
    "version": 3
   },
   "file_extension": ".py",
   "mimetype": "text/x-python",
   "name": "python",
   "nbconvert_exporter": "python",
   "pygments_lexer": "ipython3",
   "version": "3.11.9"
  }
 },
 "nbformat": 4,
 "nbformat_minor": 5
}
